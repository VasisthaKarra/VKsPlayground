{
 "cells": [
  {
   "cell_type": "code",
   "execution_count": 1,
   "id": "e2ac6625",
   "metadata": {},
   "outputs": [],
   "source": [
    "import boto3\n",
    "\n",
    "# If necessary, replace us-west-2 with the AWS Region you're using for Amazon SES.\n",
    "AWS_REGION = \"us-east-1\"\n",
    "\n",
    "# Initialize a boto3 client for Amazon Comprehend\n",
    "comprehend_client = boto3.client('comprehend', region_name=AWS_REGION)\n"
   ]
  },
  {
   "cell_type": "code",
   "execution_count": 2,
   "id": "28e597e1",
   "metadata": {},
   "outputs": [],
   "source": [
    "def extract_hotel_names(text):\n",
    "\n",
    "    # Call the detect_entities API\n",
    "    response = comprehend_client.detect_entities(Text=text, LanguageCode='en')\n",
    "\n",
    "    # Filter out entities that are categorized as 'ORGANIZATION'\n",
    "    organizations = [entity['Text'] for entity in response['Entities'] if entity['Type'] == 'ORGANIZATION']\n",
    "\n",
    "    return organizations"
   ]
  },
  {
   "cell_type": "code",
   "execution_count": 3,
   "id": "00a001d4",
   "metadata": {},
   "outputs": [],
   "source": [
    "# Example text\n",
    "text = \"The text you want to analyze, which includes hotel names like Hilton, Marriott, etc.\""
   ]
  },
  {
   "cell_type": "code",
   "execution_count": 5,
   "id": "953ea779",
   "metadata": {},
   "outputs": [
    {
     "name": "stdout",
     "output_type": "stream",
     "text": [
      "['Hilton', 'Marriott']\n"
     ]
    }
   ],
   "source": [
    "# Extract hotel names\n",
    "hotel_names = extract_hotel_names(text)\n",
    "print(hotel_names)"
   ]
  },
  {
   "cell_type": "code",
   "execution_count": null,
   "id": "40cb94e6",
   "metadata": {},
   "outputs": [],
   "source": []
  }
 ],
 "metadata": {
  "kernelspec": {
   "display_name": "Python 3 (ipykernel)",
   "language": "python",
   "name": "python3"
  },
  "language_info": {
   "codemirror_mode": {
    "name": "ipython",
    "version": 3
   },
   "file_extension": ".py",
   "mimetype": "text/x-python",
   "name": "python",
   "nbconvert_exporter": "python",
   "pygments_lexer": "ipython3",
   "version": "3.8.10"
  },
  "toc": {
   "base_numbering": 1,
   "nav_menu": {},
   "number_sections": true,
   "sideBar": true,
   "skip_h1_title": false,
   "title_cell": "Table of Contents",
   "title_sidebar": "Contents",
   "toc_cell": false,
   "toc_position": {},
   "toc_section_display": true,
   "toc_window_display": false
  },
  "varInspector": {
   "cols": {
    "lenName": 16,
    "lenType": 16,
    "lenVar": 40
   },
   "kernels_config": {
    "python": {
     "delete_cmd_postfix": "",
     "delete_cmd_prefix": "del ",
     "library": "var_list.py",
     "varRefreshCmd": "print(var_dic_list())"
    },
    "r": {
     "delete_cmd_postfix": ") ",
     "delete_cmd_prefix": "rm(",
     "library": "var_list.r",
     "varRefreshCmd": "cat(var_dic_list()) "
    }
   },
   "types_to_exclude": [
    "module",
    "function",
    "builtin_function_or_method",
    "instance",
    "_Feature"
   ],
   "window_display": false
  }
 },
 "nbformat": 4,
 "nbformat_minor": 5
}
