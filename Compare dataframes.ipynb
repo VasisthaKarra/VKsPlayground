{
 "cells": [
  {
   "cell_type": "code",
   "execution_count": 1,
   "metadata": {},
   "outputs": [],
   "source": [
    "import pandas as pd"
   ]
  },
  {
   "cell_type": "code",
   "execution_count": 2,
   "metadata": {},
   "outputs": [],
   "source": [
    "firstProductSet = {'Product1': ['Computer','Phone','Printer','Desk'],\n",
    "                   'Price1': [1200,800,200,350],\n",
    "                   'Name1': ['a','b','c','d'],\n",
    "                   'Id1': [1,2,3,4]\n",
    "                   \n",
    "                   }\n",
    "df1 = pd.DataFrame(firstProductSet,columns= ['Product1', 'Price1', 'Name1', 'Id1'])\n",
    "\n",
    "\n",
    "secondProductSet = {'Product1': ['Computer','Phone','Printer','Desk'],\n",
    "                    'Price1': [1200,800,200,200],\n",
    "                    'Name1': ['a','b','c','d'],\n",
    "                    'Id1': [2,2,3,4]\n",
    "                    }\n",
    "df2 = pd.DataFrame(secondProductSet,columns= ['Product1', 'Price1', 'Name1', 'Id1'])"
   ]
  },
  {
   "cell_type": "code",
   "execution_count": 3,
   "metadata": {},
   "outputs": [],
   "source": [
    "df1 = df1.sort_values(by = ['Product1'])\n",
    "df1 = df1.reset_index(drop = True)\n",
    "df2 = df2.sort_values(by = ['Product1'])\n",
    "df2 = df2.reset_index(drop = True)"
   ]
  },
  {
   "cell_type": "code",
   "execution_count": 4,
   "metadata": {},
   "outputs": [
    {
     "data": {
      "text/html": [
       "<div>\n",
       "<style scoped>\n",
       "    .dataframe tbody tr th:only-of-type {\n",
       "        vertical-align: middle;\n",
       "    }\n",
       "\n",
       "    .dataframe tbody tr th {\n",
       "        vertical-align: top;\n",
       "    }\n",
       "\n",
       "    .dataframe thead th {\n",
       "        text-align: right;\n",
       "    }\n",
       "</style>\n",
       "<table border=\"1\" class=\"dataframe\">\n",
       "  <thead>\n",
       "    <tr style=\"text-align: right;\">\n",
       "      <th></th>\n",
       "      <th>Product1</th>\n",
       "      <th>Price1</th>\n",
       "      <th>Name1</th>\n",
       "      <th>Id1</th>\n",
       "      <th>Product1</th>\n",
       "      <th>Price1</th>\n",
       "      <th>Name1</th>\n",
       "      <th>Id1</th>\n",
       "      <th>Product1</th>\n",
       "      <th>Price1</th>\n",
       "      <th>Name1</th>\n",
       "      <th>Id1</th>\n",
       "      <th>check</th>\n",
       "    </tr>\n",
       "  </thead>\n",
       "  <tbody>\n",
       "    <tr>\n",
       "      <th>0</th>\n",
       "      <td>Computer</td>\n",
       "      <td>1200</td>\n",
       "      <td>a</td>\n",
       "      <td>1</td>\n",
       "      <td>Computer</td>\n",
       "      <td>1200</td>\n",
       "      <td>a</td>\n",
       "      <td>2</td>\n",
       "      <td>True</td>\n",
       "      <td>True</td>\n",
       "      <td>True</td>\n",
       "      <td>False</td>\n",
       "      <td>False</td>\n",
       "    </tr>\n",
       "    <tr>\n",
       "      <th>1</th>\n",
       "      <td>Desk</td>\n",
       "      <td>350</td>\n",
       "      <td>d</td>\n",
       "      <td>4</td>\n",
       "      <td>Desk</td>\n",
       "      <td>200</td>\n",
       "      <td>d</td>\n",
       "      <td>4</td>\n",
       "      <td>True</td>\n",
       "      <td>False</td>\n",
       "      <td>True</td>\n",
       "      <td>True</td>\n",
       "      <td>False</td>\n",
       "    </tr>\n",
       "  </tbody>\n",
       "</table>\n",
       "</div>"
      ],
      "text/plain": [
       "   Product1  Price1  Name1  Id1  Product1  Price1  Name1  Id1  Product1  \\\n",
       "0  Computer    1200      a    1  Computer    1200      a    2      True   \n",
       "1      Desk     350      d    4      Desk     200      d    4      True   \n",
       "\n",
       "   Price1  Name1    Id1  check  \n",
       "0    True   True  False  False  \n",
       "1   False   True   True  False  "
      ]
     },
     "execution_count": 4,
     "metadata": {},
     "output_type": "execute_result"
    }
   ],
   "source": [
    "df_test = df1.eq(df2)\n",
    "df_test['check'] = df_test['Product1'] & df_test['Price1'] & df_test['Name1'] & df_test['Id1']\n",
    "d = pd.concat([df1,df2,df_test], axis = 1)\n",
    "d.loc[d['check'] == False]\n",
    "#df_test"
   ]
  },
  {
   "cell_type": "code",
   "execution_count": 5,
   "metadata": {},
   "outputs": [
    {
     "data": {
      "text/html": [
       "<div>\n",
       "<style scoped>\n",
       "    .dataframe tbody tr th:only-of-type {\n",
       "        vertical-align: middle;\n",
       "    }\n",
       "\n",
       "    .dataframe tbody tr th {\n",
       "        vertical-align: top;\n",
       "    }\n",
       "\n",
       "    .dataframe thead th {\n",
       "        text-align: right;\n",
       "    }\n",
       "</style>\n",
       "<table border=\"1\" class=\"dataframe\">\n",
       "  <thead>\n",
       "    <tr style=\"text-align: right;\">\n",
       "      <th></th>\n",
       "      <th>Product1</th>\n",
       "      <th>Price1</th>\n",
       "      <th>Name1</th>\n",
       "      <th>Id1</th>\n",
       "      <th>check</th>\n",
       "    </tr>\n",
       "  </thead>\n",
       "  <tbody>\n",
       "    <tr>\n",
       "      <th>0</th>\n",
       "      <td>True</td>\n",
       "      <td>True</td>\n",
       "      <td>True</td>\n",
       "      <td>False</td>\n",
       "      <td>False</td>\n",
       "    </tr>\n",
       "    <tr>\n",
       "      <th>1</th>\n",
       "      <td>True</td>\n",
       "      <td>False</td>\n",
       "      <td>True</td>\n",
       "      <td>True</td>\n",
       "      <td>False</td>\n",
       "    </tr>\n",
       "    <tr>\n",
       "      <th>2</th>\n",
       "      <td>True</td>\n",
       "      <td>True</td>\n",
       "      <td>True</td>\n",
       "      <td>True</td>\n",
       "      <td>True</td>\n",
       "    </tr>\n",
       "    <tr>\n",
       "      <th>3</th>\n",
       "      <td>True</td>\n",
       "      <td>True</td>\n",
       "      <td>True</td>\n",
       "      <td>True</td>\n",
       "      <td>True</td>\n",
       "    </tr>\n",
       "  </tbody>\n",
       "</table>\n",
       "</div>"
      ],
      "text/plain": [
       "   Product1  Price1  Name1    Id1  check\n",
       "0      True    True   True  False  False\n",
       "1      True   False   True   True  False\n",
       "2      True    True   True   True   True\n",
       "3      True    True   True   True   True"
      ]
     },
     "execution_count": 5,
     "metadata": {},
     "output_type": "execute_result"
    }
   ],
   "source": [
    "df_test"
   ]
  },
  {
   "cell_type": "code",
   "execution_count": null,
   "metadata": {},
   "outputs": [],
   "source": []
  }
 ],
 "metadata": {
  "kernelspec": {
   "display_name": "Python 3",
   "language": "python",
   "name": "python3"
  },
  "language_info": {
   "codemirror_mode": {
    "name": "ipython",
    "version": 3
   },
   "file_extension": ".py",
   "mimetype": "text/x-python",
   "name": "python",
   "nbconvert_exporter": "python",
   "pygments_lexer": "ipython3",
   "version": "3.8.5"
  }
 },
 "nbformat": 4,
 "nbformat_minor": 4
}
